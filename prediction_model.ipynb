{
 "cells": [
  {
   "cell_type": "markdown",
   "id": "1409ff6a-7ee7-460a-babf-4de33f93eae3",
   "metadata": {},
   "source": [
    "# Model to Predict House Occupany #"
   ]
  },
  {
   "cell_type": "markdown",
   "id": "c5ff0177-4036-43f8-952b-538faeff62b8",
   "metadata": {},
   "source": [
    "By taking the approach of a supervised prediction model, my aim is to model the motion data in the same structure as the home data. The modelled motion data can then be used to train a prediction model (e.g. a logistic regression model), and the model be validated by the home data. "
   ]
  },
  {
   "cell_type": "markdown",
   "id": "72c833d2-716d-4b8d-925c-e9b00effa997",
   "metadata": {},
   "source": [
    "## Load Data"
   ]
  },
  {
   "cell_type": "markdown",
   "id": "e0ba7a99-6ba6-415a-b470-f4a453bd1b12",
   "metadata": {},
   "source": [
    "Using sqlite3, load the data into a pandas dataframe and perform a small amount of data exploration and prepartion"
   ]
  },
  {
   "cell_type": "code",
   "execution_count": 108,
   "id": "d9d2e7dc-30a2-49ca-b09e-43aa986f43bb",
   "metadata": {},
   "outputs": [],
   "source": [
    "import sqlite3\n",
    "import pandas as pd"
   ]
  },
  {
   "cell_type": "code",
   "execution_count": 110,
   "id": "a98794ad-4cb2-4634-9b97-a51aba8eae3a",
   "metadata": {},
   "outputs": [
    {
     "name": "stdout",
     "output_type": "stream",
     "text": [
      "[('homes',), ('motion',)]\n"
     ]
    }
   ],
   "source": [
    "# creating the file path from my local machine \n",
    "dbfile = 'C:/Users/Nadia/Documents/Imperial/data.db'\n",
    "# Create a SQL connection to SQLite database\n",
    "con = sqlite3.connect(dbfile)\n",
    "\n",
    "# creating cursor\n",
    "cur = con.cursor()\n",
    "\n",
    "# returning table names\n",
    "table_list = [a for a in cur.execute(\"SELECT name FROM sqlite_master WHERE type = 'table'\")]\n",
    "print(table_list)"
   ]
  },
  {
   "cell_type": "code",
   "execution_count": 112,
   "id": "7226a456-bfdf-48ac-bd27-c30db1ecb649",
   "metadata": {},
   "outputs": [],
   "source": [
    "homes = pd.read_sql_query('SELECT * FROM homes', con)\n",
    "motion = pd.read_sql_query('SELECT * FROM motion', con)"
   ]
  },
  {
   "cell_type": "code",
   "execution_count": 113,
   "id": "68caa112-e14f-48f5-8b4b-efb4075bcdd4",
   "metadata": {},
   "outputs": [
    {
     "data": {
      "text/html": [
       "<div>\n",
       "<style scoped>\n",
       "    .dataframe tbody tr th:only-of-type {\n",
       "        vertical-align: middle;\n",
       "    }\n",
       "\n",
       "    .dataframe tbody tr th {\n",
       "        vertical-align: top;\n",
       "    }\n",
       "\n",
       "    .dataframe thead th {\n",
       "        text-align: right;\n",
       "    }\n",
       "</style>\n",
       "<table border=\"1\" class=\"dataframe\">\n",
       "  <thead>\n",
       "    <tr style=\"text-align: right;\">\n",
       "      <th></th>\n",
       "      <th>id</th>\n",
       "      <th>home_id</th>\n",
       "      <th>datetime</th>\n",
       "      <th>location</th>\n",
       "    </tr>\n",
       "  </thead>\n",
       "  <tbody>\n",
       "    <tr>\n",
       "      <th>0</th>\n",
       "      <td>e41218b439d933a1cd9ad158f78e9198</td>\n",
       "      <td>205c42ec747e2db13cb92087a99433f1</td>\n",
       "      <td>2024-01-01 00:00:10+00</td>\n",
       "      <td>lounge</td>\n",
       "    </tr>\n",
       "    <tr>\n",
       "      <th>1</th>\n",
       "      <td>92d48d869ae50b0764cfb8d70494f618</td>\n",
       "      <td>7d2f2e0a9e059b4fb8106bb0ad4b8a39</td>\n",
       "      <td>2024-01-01 00:00:17+00</td>\n",
       "      <td>lounge</td>\n",
       "    </tr>\n",
       "    <tr>\n",
       "      <th>2</th>\n",
       "      <td>65c18ba64884442dd47c2fd4cf3630e4</td>\n",
       "      <td>44a880cc6fc3a7db3464092f650ae7f1</td>\n",
       "      <td>2024-01-01 00:00:18+00</td>\n",
       "      <td>lounge</td>\n",
       "    </tr>\n",
       "    <tr>\n",
       "      <th>3</th>\n",
       "      <td>90d6336d189c929aa50fa08e5aee5f41</td>\n",
       "      <td>49b83fce41b676266b98cd1e095f1c11</td>\n",
       "      <td>2024-01-01 00:00:43+00</td>\n",
       "      <td>lounge</td>\n",
       "    </tr>\n",
       "    <tr>\n",
       "      <th>4</th>\n",
       "      <td>6e3d73bed24b95ffdfe5ec017787f039</td>\n",
       "      <td>14328a0b7574e912c2e23d62c9476a07</td>\n",
       "      <td>2024-01-01 00:00:57+00</td>\n",
       "      <td>lounge</td>\n",
       "    </tr>\n",
       "  </tbody>\n",
       "</table>\n",
       "</div>"
      ],
      "text/plain": [
       "                                 id                           home_id  \\\n",
       "0  e41218b439d933a1cd9ad158f78e9198  205c42ec747e2db13cb92087a99433f1   \n",
       "1  92d48d869ae50b0764cfb8d70494f618  7d2f2e0a9e059b4fb8106bb0ad4b8a39   \n",
       "2  65c18ba64884442dd47c2fd4cf3630e4  44a880cc6fc3a7db3464092f650ae7f1   \n",
       "3  90d6336d189c929aa50fa08e5aee5f41  49b83fce41b676266b98cd1e095f1c11   \n",
       "4  6e3d73bed24b95ffdfe5ec017787f039  14328a0b7574e912c2e23d62c9476a07   \n",
       "\n",
       "                 datetime location  \n",
       "0  2024-01-01 00:00:10+00   lounge  \n",
       "1  2024-01-01 00:00:17+00   lounge  \n",
       "2  2024-01-01 00:00:18+00   lounge  \n",
       "3  2024-01-01 00:00:43+00   lounge  \n",
       "4  2024-01-01 00:00:57+00   lounge  "
      ]
     },
     "execution_count": 113,
     "metadata": {},
     "output_type": "execute_result"
    }
   ],
   "source": [
    "motion.head()"
   ]
  },
  {
   "cell_type": "code",
   "execution_count": 114,
   "id": "bb8f1c7f-58e6-481b-9706-c6c3ce16034d",
   "metadata": {},
   "outputs": [
    {
     "data": {
      "text/plain": [
       "array(['lounge', 'bedroom1', 'hallway', 'kitchen', 'bathroom1', 'WC1',\n",
       "       'living room', 'dining room', 'conservatory', 'study'],\n",
       "      dtype=object)"
      ]
     },
     "execution_count": 114,
     "metadata": {},
     "output_type": "execute_result"
    }
   ],
   "source": [
    "motion.location.unique()"
   ]
  },
  {
   "cell_type": "code",
   "execution_count": 115,
   "id": "0c84dcd2-794e-40ed-bc01-0b88839588fc",
   "metadata": {},
   "outputs": [
    {
     "data": {
      "text/plain": [
       "id          object\n",
       "home_id     object\n",
       "datetime    object\n",
       "location    object\n",
       "dtype: object"
      ]
     },
     "execution_count": 115,
     "metadata": {},
     "output_type": "execute_result"
    }
   ],
   "source": [
    "motion.dtypes"
   ]
  },
  {
   "cell_type": "code",
   "execution_count": 116,
   "id": "6be60f08-d1d4-4a79-ba17-3193acbc15da",
   "metadata": {},
   "outputs": [],
   "source": [
    "# convert datetime to datetime in order to calculate time difference\n",
    "motion['datetime'] = pd.to_datetime(motion['datetime'])"
   ]
  },
  {
   "cell_type": "markdown",
   "id": "4f012ba3-a1ff-412b-91c7-92cac22bdbe6",
   "metadata": {},
   "source": [
    "## Feature Engineering"
   ]
  },
  {
   "cell_type": "markdown",
   "id": "b7e86c19-b320-46ef-86cc-f8647e90291f",
   "metadata": {},
   "source": [
    "To model the motion data similarly to the homes data, I aim to create a table with the same columns using the home_id and a new column generated using the home_id, datetime and location. \n",
    "\n",
    "\n",
    "To generate a new feature, I will be making an assumption based on room size and average walking speed, to say X is the time it would take to leave and enter a new location -\n",
    "\n",
    "    the case when home_id[i] = home_id[j] and location[i] = location[j],\n",
    "    \n",
    "        if datetime[j] - datetime[i] < X,\n",
    "        \n",
    "        then there are multiple people detected by the sensor,\n",
    "        \n",
    "From this, I plan to generate a new dataframe with home_id and if datetime[j] - datetime[i] < X, multiple occupancy = 1, otherwise 0."
   ]
  },
  {
   "cell_type": "code",
   "execution_count": 123,
   "id": "c3e95af4-1881-49f7-b60f-43d9ac11a891",
   "metadata": {},
   "outputs": [
    {
     "data": {
      "text/html": [
       "<div>\n",
       "<style scoped>\n",
       "    .dataframe tbody tr th:only-of-type {\n",
       "        vertical-align: middle;\n",
       "    }\n",
       "\n",
       "    .dataframe tbody tr th {\n",
       "        vertical-align: top;\n",
       "    }\n",
       "\n",
       "    .dataframe thead th {\n",
       "        text-align: right;\n",
       "    }\n",
       "</style>\n",
       "<table border=\"1\" class=\"dataframe\">\n",
       "  <thead>\n",
       "    <tr style=\"text-align: right;\">\n",
       "      <th></th>\n",
       "      <th>id</th>\n",
       "      <th>home_id</th>\n",
       "      <th>datetime</th>\n",
       "      <th>location</th>\n",
       "      <th>prev_timestamp</th>\n",
       "      <th>time_diff</th>\n",
       "      <th>multiple_occupancy</th>\n",
       "    </tr>\n",
       "  </thead>\n",
       "  <tbody>\n",
       "    <tr>\n",
       "      <th>2336</th>\n",
       "      <td>32d084228887d5d9b9d622a6a5bde799</td>\n",
       "      <td>0904961f621c9bd03542b43b992ec431</td>\n",
       "      <td>2024-01-01 08:27:15+00:00</td>\n",
       "      <td>hallway</td>\n",
       "      <td>NaT</td>\n",
       "      <td>NaT</td>\n",
       "      <td>0</td>\n",
       "    </tr>\n",
       "    <tr>\n",
       "      <th>2348</th>\n",
       "      <td>e466bb0bd5ceefa24d266d74e190d0b6</td>\n",
       "      <td>0904961f621c9bd03542b43b992ec431</td>\n",
       "      <td>2024-01-01 08:28:19+00:00</td>\n",
       "      <td>hallway</td>\n",
       "      <td>2024-01-01 08:27:15+00:00</td>\n",
       "      <td>0 days 00:01:04</td>\n",
       "      <td>1</td>\n",
       "    </tr>\n",
       "    <tr>\n",
       "      <th>2452</th>\n",
       "      <td>3dbd2f7b6e0ff2086d2982aaec5f2f6d</td>\n",
       "      <td>0904961f621c9bd03542b43b992ec431</td>\n",
       "      <td>2024-01-01 08:35:04+00:00</td>\n",
       "      <td>hallway</td>\n",
       "      <td>2024-01-01 08:28:19+00:00</td>\n",
       "      <td>0 days 00:06:45</td>\n",
       "      <td>0</td>\n",
       "    </tr>\n",
       "    <tr>\n",
       "      <th>2473</th>\n",
       "      <td>e4e5f042872c8d2e43c7c44ce54d469b</td>\n",
       "      <td>0904961f621c9bd03542b43b992ec431</td>\n",
       "      <td>2024-01-01 08:36:20+00:00</td>\n",
       "      <td>hallway</td>\n",
       "      <td>2024-01-01 08:35:04+00:00</td>\n",
       "      <td>0 days 00:01:16</td>\n",
       "      <td>1</td>\n",
       "    </tr>\n",
       "    <tr>\n",
       "      <th>2478</th>\n",
       "      <td>37bf0bd90502b17555550cd5649b5e71</td>\n",
       "      <td>0904961f621c9bd03542b43b992ec431</td>\n",
       "      <td>2024-01-01 08:36:42+00:00</td>\n",
       "      <td>kitchen</td>\n",
       "      <td>NaT</td>\n",
       "      <td>NaT</td>\n",
       "      <td>0</td>\n",
       "    </tr>\n",
       "    <tr>\n",
       "      <th>...</th>\n",
       "      <td>...</td>\n",
       "      <td>...</td>\n",
       "      <td>...</td>\n",
       "      <td>...</td>\n",
       "      <td>...</td>\n",
       "      <td>...</td>\n",
       "      <td>...</td>\n",
       "    </tr>\n",
       "    <tr>\n",
       "      <th>579525</th>\n",
       "      <td>bd95f0c14ff1504a40e503287dac80fe</td>\n",
       "      <td>f5a2b27c9d8bb7f59b7b0684d3555e52</td>\n",
       "      <td>2024-01-31 22:21:42+00:00</td>\n",
       "      <td>bedroom1</td>\n",
       "      <td>2024-01-31 22:20:28+00:00</td>\n",
       "      <td>0 days 00:01:14</td>\n",
       "      <td>1</td>\n",
       "    </tr>\n",
       "    <tr>\n",
       "      <th>580005</th>\n",
       "      <td>e949397e2b19f5f98c85738dbdca0035</td>\n",
       "      <td>f5a2b27c9d8bb7f59b7b0684d3555e52</td>\n",
       "      <td>2024-01-31 23:01:27+00:00</td>\n",
       "      <td>bedroom1</td>\n",
       "      <td>2024-01-31 22:21:42+00:00</td>\n",
       "      <td>0 days 00:39:45</td>\n",
       "      <td>0</td>\n",
       "    </tr>\n",
       "    <tr>\n",
       "      <th>580067</th>\n",
       "      <td>1d65e35000bfa3c7a419ca254550174a</td>\n",
       "      <td>f5a2b27c9d8bb7f59b7b0684d3555e52</td>\n",
       "      <td>2024-01-31 23:06:36+00:00</td>\n",
       "      <td>bedroom1</td>\n",
       "      <td>2024-01-31 23:01:27+00:00</td>\n",
       "      <td>0 days 00:05:09</td>\n",
       "      <td>0</td>\n",
       "    </tr>\n",
       "    <tr>\n",
       "      <th>580230</th>\n",
       "      <td>fca590a53887a0a206befa3332b11ae3</td>\n",
       "      <td>f5a2b27c9d8bb7f59b7b0684d3555e52</td>\n",
       "      <td>2024-01-31 23:33:28+00:00</td>\n",
       "      <td>bedroom1</td>\n",
       "      <td>2024-01-31 23:06:36+00:00</td>\n",
       "      <td>0 days 00:26:52</td>\n",
       "      <td>0</td>\n",
       "    </tr>\n",
       "    <tr>\n",
       "      <th>580297</th>\n",
       "      <td>d1f9313ae4bd9cdc69efbeed7979160e</td>\n",
       "      <td>f5a2b27c9d8bb7f59b7b0684d3555e52</td>\n",
       "      <td>2024-01-31 23:55:23+00:00</td>\n",
       "      <td>bedroom1</td>\n",
       "      <td>2024-01-31 23:33:28+00:00</td>\n",
       "      <td>0 days 00:21:55</td>\n",
       "      <td>0</td>\n",
       "    </tr>\n",
       "  </tbody>\n",
       "</table>\n",
       "<p>580317 rows × 7 columns</p>\n",
       "</div>"
      ],
      "text/plain": [
       "                                      id                           home_id  \\\n",
       "2336    32d084228887d5d9b9d622a6a5bde799  0904961f621c9bd03542b43b992ec431   \n",
       "2348    e466bb0bd5ceefa24d266d74e190d0b6  0904961f621c9bd03542b43b992ec431   \n",
       "2452    3dbd2f7b6e0ff2086d2982aaec5f2f6d  0904961f621c9bd03542b43b992ec431   \n",
       "2473    e4e5f042872c8d2e43c7c44ce54d469b  0904961f621c9bd03542b43b992ec431   \n",
       "2478    37bf0bd90502b17555550cd5649b5e71  0904961f621c9bd03542b43b992ec431   \n",
       "...                                  ...                               ...   \n",
       "579525  bd95f0c14ff1504a40e503287dac80fe  f5a2b27c9d8bb7f59b7b0684d3555e52   \n",
       "580005  e949397e2b19f5f98c85738dbdca0035  f5a2b27c9d8bb7f59b7b0684d3555e52   \n",
       "580067  1d65e35000bfa3c7a419ca254550174a  f5a2b27c9d8bb7f59b7b0684d3555e52   \n",
       "580230  fca590a53887a0a206befa3332b11ae3  f5a2b27c9d8bb7f59b7b0684d3555e52   \n",
       "580297  d1f9313ae4bd9cdc69efbeed7979160e  f5a2b27c9d8bb7f59b7b0684d3555e52   \n",
       "\n",
       "                        datetime  location            prev_timestamp  \\\n",
       "2336   2024-01-01 08:27:15+00:00   hallway                       NaT   \n",
       "2348   2024-01-01 08:28:19+00:00   hallway 2024-01-01 08:27:15+00:00   \n",
       "2452   2024-01-01 08:35:04+00:00   hallway 2024-01-01 08:28:19+00:00   \n",
       "2473   2024-01-01 08:36:20+00:00   hallway 2024-01-01 08:35:04+00:00   \n",
       "2478   2024-01-01 08:36:42+00:00   kitchen                       NaT   \n",
       "...                          ...       ...                       ...   \n",
       "579525 2024-01-31 22:21:42+00:00  bedroom1 2024-01-31 22:20:28+00:00   \n",
       "580005 2024-01-31 23:01:27+00:00  bedroom1 2024-01-31 22:21:42+00:00   \n",
       "580067 2024-01-31 23:06:36+00:00  bedroom1 2024-01-31 23:01:27+00:00   \n",
       "580230 2024-01-31 23:33:28+00:00  bedroom1 2024-01-31 23:06:36+00:00   \n",
       "580297 2024-01-31 23:55:23+00:00  bedroom1 2024-01-31 23:33:28+00:00   \n",
       "\n",
       "             time_diff  multiple_occupancy  \n",
       "2336               NaT                   0  \n",
       "2348   0 days 00:01:04                   1  \n",
       "2452   0 days 00:06:45                   0  \n",
       "2473   0 days 00:01:16                   1  \n",
       "2478               NaT                   0  \n",
       "...                ...                 ...  \n",
       "579525 0 days 00:01:14                   1  \n",
       "580005 0 days 00:39:45                   0  \n",
       "580067 0 days 00:05:09                   0  \n",
       "580230 0 days 00:26:52                   0  \n",
       "580297 0 days 00:21:55                   0  \n",
       "\n",
       "[580317 rows x 7 columns]"
      ]
     },
     "execution_count": 123,
     "metadata": {},
     "output_type": "execute_result"
    }
   ],
   "source": [
    "# setting x = 60 seconds to change rooms \n",
    "x = pd.Timedelta(seconds=90)\n",
    "\n",
    "# ordering data by home_id and datetime\n",
    "motion = motion.sort_values(by=['home_id', 'datetime'])\n",
    "# calculating time difference between events in the same room \n",
    "motion['prev_timestamp'] = motion.groupby(['home_id', 'location'])['datetime'].shift(1)\n",
    "motion['time_diff'] = motion['datetime'] - motion['prev_timestamp']\n",
    "\n",
    "motion['multiple_occupancy'] = (motion['time_diff'] < x).astype(int)\n",
    "\n",
    "motion\n"
   ]
  },
  {
   "cell_type": "markdown",
   "id": "35e461d5-d202-4277-ad5c-6b02e51633fb",
   "metadata": {},
   "source": [
    "My next steps from here would be to create a new table, by modelling the columns above to show only columns home_id and multiple_occupancy."
   ]
  },
  {
   "cell_type": "markdown",
   "id": "86012856-e40b-4052-9a4b-2fd1176da741",
   "metadata": {},
   "source": [
    "## Prediction Model"
   ]
  },
  {
   "cell_type": "markdown",
   "id": "0d28e082-f510-44cb-acc9-7bb09db3a1db",
   "metadata": {},
   "source": [
    "The table that would be generated in the previous section could be used to train a prediction model by randomising the data and splitting it into a training and testing set, usually with 75:25 ratio. \n",
    "The homes data can then be used to validate the model."
   ]
  },
  {
   "cell_type": "code",
   "execution_count": null,
   "id": "c83ae541-90ea-4e7e-b313-e42f6329d6ff",
   "metadata": {},
   "outputs": [],
   "source": []
  }
 ],
 "metadata": {
  "kernelspec": {
   "display_name": "Python 3 (ipykernel)",
   "language": "python",
   "name": "python3"
  },
  "language_info": {
   "codemirror_mode": {
    "name": "ipython",
    "version": 3
   },
   "file_extension": ".py",
   "mimetype": "text/x-python",
   "name": "python",
   "nbconvert_exporter": "python",
   "pygments_lexer": "ipython3",
   "version": "3.12.4"
  }
 },
 "nbformat": 4,
 "nbformat_minor": 5
}
